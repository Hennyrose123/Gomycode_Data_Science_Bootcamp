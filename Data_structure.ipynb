{
  "nbformat": 4,
  "nbformat_minor": 0,
  "metadata": {
    "colab": {
      "provenance": []
    },
    "kernelspec": {
      "name": "python3",
      "display_name": "Python 3"
    },
    "language_info": {
      "name": "python"
    }
  },
  "cells": [
    {
      "cell_type": "markdown",
      "source": [
        "DATA STRUCTURE CHECKPOINT ANSWERS\n"
      ],
      "metadata": {
        "id": "4Bv5ov0Mohwg"
      }
    },
    {
      "cell_type": "markdown",
      "source": [
        "NUMBER 1"
      ],
      "metadata": {
        "id": "LoR73tdMCXDd"
      }
    },
    {
      "cell_type": "code",
      "source": [],
      "metadata": {
        "id": "D7ACo38RCWnJ"
      },
      "execution_count": null,
      "outputs": []
    },
    {
      "cell_type": "code",
      "source": [
        "sample_list = [2, 3, 6]\n",
        "result = 1\n",
        "for i in sample_list:\n",
        "    result *= i\n",
        "print(result)"
      ],
      "metadata": {
        "colab": {
          "base_uri": "https://localhost:8080/"
        },
        "id": "5MREhbkGoxcA",
        "outputId": "802e55da-b13d-4ee6-e30b-6d96abfd4166"
      },
      "execution_count": null,
      "outputs": [
        {
          "output_type": "stream",
          "name": "stdout",
          "text": [
            "36\n"
          ]
        }
      ]
    },
    {
      "cell_type": "markdown",
      "source": [
        "NUMBER 2\n",
        "\n"
      ],
      "metadata": {
        "id": "bje4N3brCSGj"
      }
    },
    {
      "cell_type": "code",
      "source": [
        "sample_list = [(2, 5), (1, 2), (4, 4), (2, 3), (2, 1)]\n",
        "sorted_list = sorted(sample_list, key=lambda x: x[1])\n",
        "print(sorted_list)"
      ],
      "metadata": {
        "colab": {
          "base_uri": "https://localhost:8080/"
        },
        "id": "PFop6tgI3ONG",
        "outputId": "3a7410a7-21cd-4623-b7e2-51bcabec51f2"
      },
      "execution_count": null,
      "outputs": [
        {
          "output_type": "stream",
          "name": "stdout",
          "text": [
            "[(2, 1), (1, 2), (2, 3), (4, 4), (2, 5)]\n"
          ]
        }
      ]
    },
    {
      "cell_type": "markdown",
      "source": [
        "NUMBER 3\n"
      ],
      "metadata": {
        "id": "ozYfv3P3ChiO"
      }
    },
    {
      "cell_type": "code",
      "source": [
        "d1 = {'a': 100, 'b': 200, 'c': 300}\n",
        "d2 = {'a': 300, 'b': 200, 'd': 400}\n",
        "\n",
        "result_dict = {key: d1.get(key, 0) + d2.get(key, 0) for key in set(d1) | set(d2)}\n",
        "\n",
        "print(result_dict)\n"
      ],
      "metadata": {
        "colab": {
          "base_uri": "https://localhost:8080/"
        },
        "id": "-KN7FTLX4wB1",
        "outputId": "5cb00e62-0c33-40c2-a799-51b423ea6c4a"
      },
      "execution_count": null,
      "outputs": [
        {
          "output_type": "stream",
          "name": "stdout",
          "text": [
            "{'a': 400, 'd': 400, 'c': 300, 'b': 400}\n"
          ]
        }
      ]
    },
    {
      "cell_type": "markdown",
      "source": [
        "NUMBER 4"
      ],
      "metadata": {
        "id": "2AZI2poACl6p"
      }
    },
    {
      "cell_type": "code",
      "source": [
        "n = 8\n",
        "result_dict = {i: i*i for i in range(1, n+1)}\n",
        "print(result_dict)\n",
        "#"
      ],
      "metadata": {
        "colab": {
          "base_uri": "https://localhost:8080/"
        },
        "id": "VWsDr1La5jUt",
        "outputId": "9dae2895-da14-48b8-b9d0-052a579cc852"
      },
      "execution_count": null,
      "outputs": [
        {
          "output_type": "stream",
          "name": "stdout",
          "text": [
            "{1: 1, 2: 4, 3: 9, 4: 16, 5: 25, 6: 36, 7: 49, 8: 64}\n"
          ]
        }
      ]
    },
    {
      "cell_type": "markdown",
      "source": [
        "NUMBER 5"
      ],
      "metadata": {
        "id": "ZdKSrCpJCo5X"
      }
    },
    {
      "cell_type": "code",
      "source": [
        "lst = [('item1', '12.20'), ('item2', '15.10'), ('item3', '24.5')]\n",
        "sorted_list = sorted(lst, key=lambda x: float(x[1]), reverse=True)\n",
        "print(sorted_list)"
      ],
      "metadata": {
        "colab": {
          "base_uri": "https://localhost:8080/"
        },
        "id": "snwzCCBR-3SM",
        "outputId": "61d36899-4380-485c-c9aa-d3c3d14bae03"
      },
      "execution_count": null,
      "outputs": [
        {
          "output_type": "stream",
          "name": "stdout",
          "text": [
            "[('item3', '24.5'), ('item2', '15.10'), ('item1', '12.20')]\n"
          ]
        }
      ]
    },
    {
      "cell_type": "markdown",
      "source": [
        "NUMBER 6A"
      ],
      "metadata": {
        "id": "hFni9loGCrOD"
      }
    },
    {
      "cell_type": "code",
      "source": [
        "lst =[0, 1, 2, 3, 4]\n",
        "result_set = set(lst)\n",
        "print(result_set)"
      ],
      "metadata": {
        "colab": {
          "base_uri": "https://localhost:8080/"
        },
        "id": "BR8DY9BkAnvs",
        "outputId": "2b1499a9-1247-4a90-c60b-5196ba0d78b7"
      },
      "execution_count": null,
      "outputs": [
        {
          "output_type": "stream",
          "name": "stdout",
          "text": [
            "{0, 1, 2, 3, 4}\n"
          ]
        }
      ]
    },
    {
      "cell_type": "markdown",
      "source": [
        "NUMBER 6B\n"
      ],
      "metadata": {
        "id": "5vJn8JJMDU_F"
      }
    },
    {
      "cell_type": "code",
      "source": [
        "my_set = {0, 1, 2, 3, 4}\n",
        "for item in my_set:\n",
        "    print(item)"
      ],
      "metadata": {
        "colab": {
          "base_uri": "https://localhost:8080/"
        },
        "id": "F2aUh1m3B2IH",
        "outputId": "b907e70d-be0d-463a-d28e-15f37dc972f7"
      },
      "execution_count": null,
      "outputs": [
        {
          "output_type": "stream",
          "name": "stdout",
          "text": [
            "0\n",
            "1\n",
            "2\n",
            "3\n",
            "4\n"
          ]
        }
      ]
    },
    {
      "cell_type": "markdown",
      "source": [
        "NUMBER 6C"
      ],
      "metadata": {
        "id": "h8_CPqL0EEjt"
      }
    },
    {
      "cell_type": "code",
      "source": [
        "# Initial set\n",
        "my_set = {0, 1, 2, 3, 4}\n",
        "\n",
        "# Add members\n",
        "my_set.add(5)\n",
        "my_set.add(6)\n",
        "\n",
        "# Remove an item (if it exists)\n",
        "my_set.remove(3)\n",
        "\n",
        "# Display the updated set\n",
        "print(\"Updated Set:\", my_set)\n",
        "#"
      ],
      "metadata": {
        "colab": {
          "base_uri": "https://localhost:8080/"
        },
        "id": "rtKqoKxqEIf-",
        "outputId": "d98331b0-362f-4545-b1a3-c9b07d82445f"
      },
      "execution_count": null,
      "outputs": [
        {
          "output_type": "stream",
          "name": "stdout",
          "text": [
            "Updated Set: {0, 1, 2, 4, 5, 6}\n"
          ]
        }
      ]
    },
    {
      "cell_type": "code",
      "source": [],
      "metadata": {
        "id": "TKZkS0GqFSI3"
      },
      "execution_count": null,
      "outputs": []
    }
  ]
}