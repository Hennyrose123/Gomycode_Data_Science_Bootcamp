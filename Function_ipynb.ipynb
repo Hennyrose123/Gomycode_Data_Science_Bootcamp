{
  "nbformat": 4,
  "nbformat_minor": 0,
  "metadata": {
    "colab": {
      "provenance": []
    },
    "kernelspec": {
      "name": "python3",
      "display_name": "Python 3"
    },
    "language_info": {
      "name": "python"
    }
  },
  "cells": [
    {
      "cell_type": "markdown",
      "source": [
        "FUNCTION ASSIGNMENT"
      ],
      "metadata": {
        "id": "sr9GVrYn0m-v"
      }
    },
    {
      "cell_type": "code",
      "source": [
        "def calculator(num1, num2):\n",
        "  operator = input(\"Enter operator (+, -, *, /): \")\n",
        "  if operator == \"+\":\n",
        "    return num1 + num2\n",
        "  elif operator == \"-\":\n",
        "    return num1 - num2\n",
        "  elif operator == \"*\":\n",
        "    return num1 * num2\n",
        "  elif operator == \"/\":\n",
        "      if num2 == 0:\n",
        "        return \"Error: Division by zero is not allowed! \"\n",
        "      else:\n",
        "        return num1 / num2\n",
        "  else:\n",
        "    return \" Error: Invalid operator.\"\n",
        "\n",
        "while True:\n",
        "      try:\n",
        "        num1 = float(input(\"Enter first number: \"))\n",
        "        num2 = float(input(\"Enter second number: \"))\n",
        "        result = calculator(num1, num2)\n",
        "        print(\"The result is:\", result)\n",
        "      except ValueError:\n",
        "        print(\"Error:  Please enter  valid numbers.\")\n",
        "      again = input(\"Do you want to perform another calculation? (yes/no): \")\n",
        "      if again.lower() != \"yes\":\n",
        "        print(\"Thank you for using the calculator. Goodbye!\")\n",
        "        break\n"
      ],
      "metadata": {
        "id": "P4RZOI0c0s-P",
        "colab": {
          "base_uri": "https://localhost:8080/"
        },
        "outputId": "528848b6-d765-4c20-b80e-f5fb5e75ea1c"
      },
      "execution_count": null,
      "outputs": [
        {
          "output_type": "stream",
          "name": "stdout",
          "text": [
            "Enter first number: 10\n",
            "Enter second number: 3\n",
            "Enter operator (+, -, *, /): /\n",
            "The result is: 3.3333333333333335\n",
            "Do you want to perform another calculation? (yes/no): yes\n",
            "Enter first number: 55\n",
            "Enter second number: 6\n",
            "Enter operator (+, -, *, /): -\n",
            "The result is: 49.0\n",
            "Do you want to perform another calculation? (yes/no): no\n",
            "Thank you for using the calculator. Goodbye!\n"
          ]
        }
      ]
    },
    {
      "cell_type": "code",
      "source": [],
      "metadata": {
        "id": "7oP55F2i4UYU"
      },
      "execution_count": null,
      "outputs": []
    }
  ]
}